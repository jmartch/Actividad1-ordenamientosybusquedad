{
  "nbformat": 4,
  "nbformat_minor": 0,
  "metadata": {
    "colab": {
      "provenance": []
    },
    "kernelspec": {
      "name": "python3",
      "display_name": "Python 3"
    },
    "language_info": {
      "name": "python"
    }
  },
  "cells": [
    {
      "cell_type": "markdown",
      "source": [
        "Integrandes:\n",
        "Juanangel Martinez\n",
        "Alejandro Vargas\n",
        "Jesus Paternina\n",
        "Vivian Buelvas"
      ],
      "metadata": {
        "id": "7Hw5xRHnXOVv"
      }
    },
    {
      "cell_type": "markdown",
      "source": [
        "1.Algoritmos de ordenamientos\n"
      ],
      "metadata": {
        "id": "rqk_DsDHXluu"
      }
    },
    {
      "cell_type": "code",
      "source": [
        "import random\n",
        "import time\n",
        "import numpy as np\n",
        "\n",
        "# Crear la lista con 10 elementos aleatorios\n",
        "v = [random.randint(1, 100) for _ in range(10)]\n",
        "\n",
        "# Crear la lista con 20 elementos aleatorios\n",
        "vv = [random.randint(1, 100) for _ in range(20)]\n",
        "\n",
        "# Crear la lista con 30 elementos aleatorios\n",
        "vvv = [random.randint(1, 100) for _ in range(30)]\n",
        "\n",
        "# Crear la lista con 100 elementos aleatorios\n",
        "vvvv = [random.randint(1, 100) for _ in range(100)]\n",
        "\n",
        "# Crear matriz 10x10 con elementos aleatorios\n",
        "m1 = np.array([[random.randint(1, 100) for _ in range(10)] for _ in range(10)])\n",
        "\n",
        "# Crear matriz 20x20 con elementos aleatorios\n",
        "m2 = np.array([[random.randint(1, 100) for _ in range(20)] for _ in range(20)])\n",
        "# Crear 30x30 con elementos aleatorios\n",
        "m3 = np.array([[random.randint(1, 100) for _ in range(30)] for _ in range(30)])\n",
        "# Crear matriz 100x100 con elementos aleatorios\n",
        "m4 = np.array([[random.randint(1, 100) for _ in range(30)] for _ in range(30)])\n"
      ],
      "metadata": {
        "id": "Z2pL4YtuZgGX"
      },
      "execution_count": 12,
      "outputs": []
    },
    {
      "cell_type": "markdown",
      "source": [
        "a)Ordenamiento Burbuja"
      ],
      "metadata": {
        "id": "yyjjaG7sbS1C"
      }
    },
    {
      "cell_type": "code",
      "execution_count": null,
      "metadata": {
        "id": "rPg-XnBrXDHI"
      },
      "outputs": [],
      "source": [
        "def ord_burbuja(v):\n",
        "    n = len(v)\n",
        "\n",
        "    for i in range(n-1):       # <-- bucle padre\n",
        "        for j in range(n-1-i): # <-- bucle hijo\n",
        "            if v[j] > v[j+1]:\n",
        "                v[j], v[j+1] = v[j+1], v[j]\n",
        "\n",
        "ord_burbuja(v)\n",
        "\n",
        "print(\"Vector organizado\" + str(v))\n"
      ]
    },
    {
      "cell_type": "code",
      "source": [
        "v=[1, 2, 3,\t4,\t5,\t6,\t7,\t8,\t9,\t10, 11,\t12,\t13,\t14,\t15,\t16,\t17,\t18,\t19,\t20, 21,\t22,\t23,\t24,\t25,\n",
        "   26,\t27,\t28,\t29,\t30, 31,\t32,\t33,\t34,\t35,\t36,\t37,\t38,\t39,\t40, 41,\t42,\t43,\t44,\t45,\t46,\t47,\t48,\t49,\t50,\n",
        "   51,\t52,\t53,\t54,\t55,\t56,\t57,\t58,\t59,\t60, 61,\t62,\t63,\t64,\t65,\t66,\t67,\t68,\t69,\t70, 71,\t72,\t73,\t74,\t75,\n",
        "   76,\t77,\t78,\t79,\t80, 81,\t82,\t83,\t84,\t85,\t86,\t87,\t88,\t89,\t90, 91,\t92,\t93,\t94,\t95,\t96,\t97,\t98,\t99,\t100]"
      ],
      "metadata": {
        "id": "le2ZKYgPjLTY"
      },
      "execution_count": null,
      "outputs": []
    },
    {
      "cell_type": "markdown",
      "source": [
        "b) Búsqueda lineal\n"
      ],
      "metadata": {
        "id": "F1m3SvJnYhAR"
      }
    },
    {
      "cell_type": "code",
      "source": [
        "def linear_search(v, target):\n",
        "    for i in range(len(v)):\n",
        "        if v[i] == target:\n",
        "            return i  # Return the index if the target is found\n",
        "    return -1  # Return -1 if the target is not found\n",
        "\n",
        "\n",
        "# Run the function on the numbers list\n",
        "target = 7\n",
        "index = linear_search(v, target)\n",
        "\n",
        "if index != -1:\n",
        "    print(f\"Target {target} found at index {index}\")\n",
        "else:\n",
        "    print(f\"Target {target} not found!\")"
      ],
      "metadata": {
        "id": "1gUPWWLNYlw4"
      },
      "execution_count": null,
      "outputs": []
    },
    {
      "cell_type": "markdown",
      "source": [
        "c) Búsqueda Binaria"
      ],
      "metadata": {
        "id": "O7VfQzScaoFo"
      }
    },
    {
      "cell_type": "code",
      "source": [
        "def binary_search_iterative(v, target):\n",
        "    # Define the search bounds\n",
        "    left, right = 0, len(v) - 1\n",
        "    while left <= right:\n",
        "        # Calculate the middle index\n",
        "        mid = left + (right - left) // 2\n",
        "        # If the middle element is the target, return its index\n",
        "        if v[mid] == target:\n",
        "            return mid\n",
        "        # If the target is bigger, narrow the search to the right half\n",
        "        elif v[mid] < target:\n",
        "            left = mid + 1\n",
        "        # If the target is smaller, narrow the search to the left half\n",
        "        else:\n",
        "            right = mid - 1\n",
        "    # Return -1 if the target is not found\n",
        "    return -1\n",
        "\n",
        "\n",
        "# Run the iterative function\n",
        "target = 7\n",
        "result = binary_search_iterative(v, target)\n",
        "if result != -1:\n",
        "    print(f\"Target {target} found at index {result}\")\n",
        "else:\n",
        "    print(f\"Target {target} not found\")\n"
      ],
      "metadata": {
        "id": "g8zzGKIUarue"
      },
      "execution_count": null,
      "outputs": []
    },
    {
      "cell_type": "markdown",
      "source": [
        "d) Multiplicacion de Matrices"
      ],
      "metadata": {
        "id": "62yJzF_ldIvM"
      }
    },
    {
      "cell_type": "code",
      "source": [
        "def mult_Matrices(M,A):#Matrices deben ser de M[n][m] y A[m][d]\n",
        "  n=M.shape[0]#filas de M\n",
        "  m=M.shape[1]#columnas de M\n",
        "  d=A.shape[1]#columnas de A\n",
        "  R = np.zeros((n, d))#Crear matriz resultante\n",
        "  for i in range (0,n):#Iteramos sobre las filas de M\n",
        "    for j in range (0,d):#Iteramos sobre las columnas de A\n",
        "      R[i,j]=0#Declaramos 0 en la posicion actual para empezar la sumatoria\n",
        "      for k in range (0,m):\n",
        "        R[i,j]=R[i,j]+M[i,k]*A[k,j]#Sumatoria de los producto punto\n",
        "  return R"
      ],
      "metadata": {
        "id": "WbHSa8F_dI48"
      },
      "execution_count": 13,
      "outputs": []
    },
    {
      "cell_type": "markdown",
      "source": [
        "2. Calcular la complejidad computacional de cada algoritmo"
      ],
      "metadata": {
        "id": "IkYvsThcgQqf"
      }
    },
    {
      "cell_type": "markdown",
      "source": [
        "\n",
        "\n",
        "```\n",
        "Analisis Algoritmo Multiplicacion de Matrices:\n",
        "def mult_Matrices(M,A):\n",
        "  n=M.shape[0] 2\n",
        "  m=M.shape[1] 2\n",
        "  d=A.shape[1] 2\n",
        "  R=[n][d] 1\n",
        "  for i in range (0,n):  n+1\n",
        "    for j in range (0,d): n*(d+1)\n",
        "      R[i][j]=0 2*n*d\n",
        "      for k in range (0,m): n*d*(m+1)\n",
        "        R[i][j]=R[i][j]+M[i][k]*A[k][j] 6*n*d*m\n",
        "  return R  1\n",
        "```\n",
        "T(n)=7ndm+4nd+4n+9\n",
        "\n",
        "Asumiendo que n=m=d: T(n)=7n^3+4n^2+4n+9 y T(n) es O(n^3)\n"
      ],
      "metadata": {
        "id": "be5qF2OwgZid"
      }
    },
    {
      "cell_type": "code",
      "source": [
        "def Complejidad_Experimental_mult_Matrices(matrix):\n",
        "  tiempos=[]\n",
        "  for i in range (0,30):\n",
        "    t1=time.time()\n",
        "    x=mult_Matrices(matrix,matrix)\n",
        "    t2=time.time()\n",
        "    dt=t2-t1\n",
        "    tiempos.append(dt)\n",
        "  return tiempos\n",
        "\n",
        "tiempos_M10=Complejidad_Experimental_mult_Matrices(m1)\n",
        "tiempos_M20=Complejidad_Experimental_mult_Matrices(m2)\n",
        "tiempos_M30=Complejidad_Experimental_mult_Matrices(m3)\n",
        "tiempos_M100=Complejidad_Experimental_mult_Matrices(m4)\n",
        "\n",
        "prom_10=sum(tiempos_M10)/len(tiempos_M10)\n",
        "prom_20=sum(tiempos_M20)/len(tiempos_M20)\n",
        "prom_30=sum(tiempos_M30)/len(tiempos_M30)\n",
        "prom_100=sum(tiempos_M100)/len(tiempos_M100)\n",
        "\n",
        "print(prom_10)\n",
        "print(prom_20)\n",
        "print(prom_30)\n",
        "print(prom_100)\n",
        "\n"
      ],
      "metadata": {
        "id": "McVO7778mm85",
        "colab": {
          "base_uri": "https://localhost:8080/"
        },
        "outputId": "cc8050c2-37ff-4ea8-a722-59eea04b070f"
      },
      "execution_count": 14,
      "outputs": [
        {
          "output_type": "stream",
          "name": "stdout",
          "text": [
            "0.0010941267013549806\n",
            "0.006478635470072428\n",
            "0.02292177677154541\n",
            "0.020813163121541342\n"
          ]
        }
      ]
    }
  ]
}